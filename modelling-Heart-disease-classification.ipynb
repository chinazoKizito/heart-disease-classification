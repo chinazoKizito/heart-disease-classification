{
 "cells": [
  {
   "cell_type": "markdown",
   "id": "99e6fdcd",
   "metadata": {},
   "source": [
    "## BUILDING A HEART DISEASE CLASSIFIER CONTINUED"
   ]
  },
  {
   "cell_type": "markdown",
   "id": "aeaf81c9",
   "metadata": {},
   "source": [
    "## MODELLING\n",
    "\n",
    "We have seen that our dataset is pretty distributed apart from our hypothesis using the inbalance in the data representing the sex of the patient.\n",
    "it is time to start building machine learning models to find which one that might reach 95% accuracy on predicting whether a person has heart disease or not given his or her attributes.\n",
    "\n",
    "I am going to use classification models as I am trying to solve a classification problem."
   ]
  },
  {
   "cell_type": "code",
   "execution_count": 2,
   "id": "12c6976f",
   "metadata": {},
   "outputs": [
    {
     "data": {
      "text/html": [
       "<div>\n",
       "<style scoped>\n",
       "    .dataframe tbody tr th:only-of-type {\n",
       "        vertical-align: middle;\n",
       "    }\n",
       "\n",
       "    .dataframe tbody tr th {\n",
       "        vertical-align: top;\n",
       "    }\n",
       "\n",
       "    .dataframe thead th {\n",
       "        text-align: right;\n",
       "    }\n",
       "</style>\n",
       "<table border=\"1\" class=\"dataframe\">\n",
       "  <thead>\n",
       "    <tr style=\"text-align: right;\">\n",
       "      <th></th>\n",
       "      <th>age</th>\n",
       "      <th>sex</th>\n",
       "      <th>cp</th>\n",
       "      <th>trestbps</th>\n",
       "      <th>chol</th>\n",
       "      <th>fbs</th>\n",
       "      <th>restecg</th>\n",
       "      <th>thalach</th>\n",
       "      <th>exang</th>\n",
       "      <th>oldpeak</th>\n",
       "      <th>slope</th>\n",
       "      <th>ca</th>\n",
       "      <th>thal</th>\n",
       "      <th>target</th>\n",
       "    </tr>\n",
       "  </thead>\n",
       "  <tbody>\n",
       "    <tr>\n",
       "      <th>0</th>\n",
       "      <td>63</td>\n",
       "      <td>1</td>\n",
       "      <td>3</td>\n",
       "      <td>145</td>\n",
       "      <td>233</td>\n",
       "      <td>1</td>\n",
       "      <td>0</td>\n",
       "      <td>150</td>\n",
       "      <td>0</td>\n",
       "      <td>2.3</td>\n",
       "      <td>0</td>\n",
       "      <td>0</td>\n",
       "      <td>1</td>\n",
       "      <td>1</td>\n",
       "    </tr>\n",
       "    <tr>\n",
       "      <th>1</th>\n",
       "      <td>37</td>\n",
       "      <td>1</td>\n",
       "      <td>2</td>\n",
       "      <td>130</td>\n",
       "      <td>250</td>\n",
       "      <td>0</td>\n",
       "      <td>1</td>\n",
       "      <td>187</td>\n",
       "      <td>0</td>\n",
       "      <td>3.5</td>\n",
       "      <td>0</td>\n",
       "      <td>0</td>\n",
       "      <td>2</td>\n",
       "      <td>1</td>\n",
       "    </tr>\n",
       "    <tr>\n",
       "      <th>2</th>\n",
       "      <td>41</td>\n",
       "      <td>0</td>\n",
       "      <td>1</td>\n",
       "      <td>130</td>\n",
       "      <td>204</td>\n",
       "      <td>0</td>\n",
       "      <td>0</td>\n",
       "      <td>172</td>\n",
       "      <td>0</td>\n",
       "      <td>1.4</td>\n",
       "      <td>2</td>\n",
       "      <td>0</td>\n",
       "      <td>2</td>\n",
       "      <td>1</td>\n",
       "    </tr>\n",
       "    <tr>\n",
       "      <th>3</th>\n",
       "      <td>56</td>\n",
       "      <td>1</td>\n",
       "      <td>1</td>\n",
       "      <td>120</td>\n",
       "      <td>236</td>\n",
       "      <td>0</td>\n",
       "      <td>1</td>\n",
       "      <td>178</td>\n",
       "      <td>0</td>\n",
       "      <td>0.8</td>\n",
       "      <td>2</td>\n",
       "      <td>0</td>\n",
       "      <td>2</td>\n",
       "      <td>1</td>\n",
       "    </tr>\n",
       "    <tr>\n",
       "      <th>4</th>\n",
       "      <td>57</td>\n",
       "      <td>0</td>\n",
       "      <td>0</td>\n",
       "      <td>120</td>\n",
       "      <td>354</td>\n",
       "      <td>0</td>\n",
       "      <td>1</td>\n",
       "      <td>163</td>\n",
       "      <td>1</td>\n",
       "      <td>0.6</td>\n",
       "      <td>2</td>\n",
       "      <td>0</td>\n",
       "      <td>2</td>\n",
       "      <td>1</td>\n",
       "    </tr>\n",
       "  </tbody>\n",
       "</table>\n",
       "</div>"
      ],
      "text/plain": [
       "   age  sex  cp  trestbps  chol  fbs  restecg  thalach  exang  oldpeak  slope  \\\n",
       "0   63    1   3       145   233    1        0      150      0      2.3      0   \n",
       "1   37    1   2       130   250    0        1      187      0      3.5      0   \n",
       "2   41    0   1       130   204    0        0      172      0      1.4      2   \n",
       "3   56    1   1       120   236    0        1      178      0      0.8      2   \n",
       "4   57    0   0       120   354    0        1      163      1      0.6      2   \n",
       "\n",
       "   ca  thal  target  \n",
       "0   0     1       1  \n",
       "1   0     2       1  \n",
       "2   0     2       1  \n",
       "3   0     2       1  \n",
       "4   0     2       1  "
      ]
     },
     "execution_count": 2,
     "metadata": {},
     "output_type": "execute_result"
    }
   ],
   "source": [
    "import pandas as pd\n",
    "import numpy as np\n",
    "\n",
    "\n",
    "df = pd.read_csv(\"heart-disease.csv\")\n",
    "df.head()"
   ]
  },
  {
   "cell_type": "markdown",
   "id": "ed85a739",
   "metadata": {},
   "source": [
    "### SPLITTING THE DATASET INTO X AND Y (features and outcomes)"
   ]
  },
  {
   "cell_type": "code",
   "execution_count": 3,
   "id": "64d2ca55",
   "metadata": {},
   "outputs": [
    {
     "data": {
      "text/plain": [
       "array([[63.,  1.,  3., ...,  0.,  0.,  1.],\n",
       "       [37.,  1.,  2., ...,  0.,  0.,  2.],\n",
       "       [41.,  0.,  1., ...,  2.,  0.,  2.],\n",
       "       ...,\n",
       "       [68.,  1.,  0., ...,  1.,  2.,  3.],\n",
       "       [57.,  1.,  0., ...,  1.,  1.,  3.],\n",
       "       [57.,  0.,  1., ...,  1.,  1.,  2.]])"
      ]
     },
     "execution_count": 3,
     "metadata": {},
     "output_type": "execute_result"
    }
   ],
   "source": [
    "\n",
    "X = df[['age', 'sex', 'cp', 'trestbps', \n",
    "        'chol', 'fbs', 'restecg', 'thalach', 'exang', 'oldpeak', 'slope', 'ca', 'thal']].values\n",
    "y = df['target'].values\n",
    "\n",
    "feature_names = ['age', 'sex', 'cp', 'trestbps', \n",
    "        'chol', 'fbs', 'restecg', 'thalach', 'exang', 'oldpeak', 'slope', 'ca', 'thal']\n",
    "\n",
    "X"
   ]
  },
  {
   "cell_type": "code",
   "execution_count": 4,
   "id": "06ddf768",
   "metadata": {},
   "outputs": [
    {
     "data": {
      "text/plain": [
       "array([[ 0.9521966 ,  0.68100522,  1.97312292, ..., -2.27457861,\n",
       "        -0.71442887, -2.14887271],\n",
       "       [-1.91531289,  0.68100522,  1.00257707, ..., -2.27457861,\n",
       "        -0.71442887, -0.51292188],\n",
       "       [-1.47415758, -1.46841752,  0.03203122, ...,  0.97635214,\n",
       "        -0.71442887, -0.51292188],\n",
       "       ...,\n",
       "       [ 1.50364073,  0.68100522, -0.93851463, ..., -0.64911323,\n",
       "         1.24459328,  1.12302895],\n",
       "       [ 0.29046364,  0.68100522, -0.93851463, ..., -0.64911323,\n",
       "         0.26508221,  1.12302895],\n",
       "       [ 0.29046364, -1.46841752,  0.03203122, ..., -0.64911323,\n",
       "         0.26508221, -0.51292188]])"
      ]
     },
     "execution_count": 4,
     "metadata": {},
     "output_type": "execute_result"
    }
   ],
   "source": [
    "#### NORMALIZING THE DATASET FOR SOME OF THE MACHINE LEARNING MODELS\n",
    "from sklearn.preprocessing import StandardScaler\n",
    "\n",
    "scale = StandardScaler()\n",
    "X_scaled = scale.fit_transform(X)\n",
    "X_scaled"
   ]
  },
  {
   "cell_type": "markdown",
   "id": "0ee90ef8",
   "metadata": {},
   "source": [
    "### Using cross validation  to try to pick out the best model\n",
    "### Decision Tree Model"
   ]
  },
  {
   "cell_type": "code",
   "execution_count": 5,
   "id": "e5b6b6fd",
   "metadata": {},
   "outputs": [
    {
     "data": {
      "text/plain": [
       "0.7649462365591397"
      ]
     },
     "execution_count": 5,
     "metadata": {},
     "output_type": "execute_result"
    }
   ],
   "source": [
    "from sklearn.model_selection import cross_val_score\n",
    "from sklearn.tree import DecisionTreeClassifier\n",
    "\n",
    "np.random.seed(42)\n",
    "clf = DecisionTreeClassifier()\n",
    "cv_score = cross_val_score(clf, X_scaled, y, cv=10)\n",
    "cv_score.mean()"
   ]
  },
  {
   "cell_type": "markdown",
   "id": "8182b53f",
   "metadata": {},
   "source": [
    "### Random Forest Classifier"
   ]
  },
  {
   "cell_type": "code",
   "execution_count": 6,
   "id": "02c1f2ef",
   "metadata": {},
   "outputs": [
    {
     "data": {
      "text/plain": [
       "0.8249462365591398"
      ]
     },
     "execution_count": 6,
     "metadata": {},
     "output_type": "execute_result"
    }
   ],
   "source": [
    "from sklearn.ensemble import RandomForestClassifier\n",
    "clf = RandomForestClassifier()\n",
    "cv_score = cross_val_score(clf, X_scaled, y, cv=10)\n",
    "cv_score.mean()"
   ]
  },
  {
   "cell_type": "markdown",
   "id": "9c0df6d3",
   "metadata": {},
   "source": [
    "### KneighborsClassifier"
   ]
  },
  {
   "cell_type": "code",
   "execution_count": 7,
   "id": "d22ecbce",
   "metadata": {},
   "outputs": [
    {
     "data": {
      "text/plain": [
       "0.8183870967741935"
      ]
     },
     "execution_count": 7,
     "metadata": {},
     "output_type": "execute_result"
    }
   ],
   "source": [
    "from sklearn.neighbors import KNeighborsClassifier\n",
    "\n",
    "clf = KNeighborsClassifier()\n",
    "cv_score = cross_val_score(clf, X_scaled, y, cv=10)\n",
    "cv_score.mean()"
   ]
  },
  {
   "cell_type": "markdown",
   "id": "fad7e23b",
   "metadata": {},
   "source": [
    "### LogisticRegression Model"
   ]
  },
  {
   "cell_type": "code",
   "execution_count": 8,
   "id": "49a67584",
   "metadata": {},
   "outputs": [
    {
     "data": {
      "text/plain": [
       "0.8116129032258066"
      ]
     },
     "execution_count": 8,
     "metadata": {},
     "output_type": "execute_result"
    }
   ],
   "source": [
    "from sklearn.linear_model import LogisticRegression\n",
    "\n",
    "clf = LogisticRegression()\n",
    "cv_score = cross_val_score(clf, X_scaled, y, cv=10)\n",
    "cv_score.mean()"
   ]
  },
  {
   "cell_type": "markdown",
   "id": "7b212974",
   "metadata": {},
   "source": [
    "### Xgboost Classifier"
   ]
  },
  {
   "cell_type": "code",
   "execution_count": 9,
   "id": "769b64b4",
   "metadata": {},
   "outputs": [
    {
     "data": {
      "text/plain": [
       "0.7981720430107527"
      ]
     },
     "execution_count": 9,
     "metadata": {},
     "output_type": "execute_result"
    }
   ],
   "source": [
    "from xgboost import XGBClassifier\n",
    "\n",
    "clf = XGBClassifier(eval_metric=\"logloss\", use_label_encoder=False)\n",
    "cv_score = cross_val_score(clf, X_scaled, y, cv=10)\n",
    "cv_score.mean()"
   ]
  },
  {
   "cell_type": "markdown",
   "id": "0f8edf8b",
   "metadata": {},
   "source": [
    "### Support Vector Machines"
   ]
  },
  {
   "cell_type": "code",
   "execution_count": 10,
   "id": "69d1af31",
   "metadata": {},
   "outputs": [
    {
     "data": {
      "text/plain": [
       "0.8281720430107526"
      ]
     },
     "execution_count": 10,
     "metadata": {},
     "output_type": "execute_result"
    }
   ],
   "source": [
    "# Linear Kernel\n",
    "from sklearn.svm import SVC\n",
    "\n",
    "C=1.0\n",
    "svc = SVC(kernel='linear', C=C)\n",
    "cv_score = cross_val_score(svc, X_scaled, y, cv=10)\n",
    "cv_score.mean()"
   ]
  },
  {
   "cell_type": "code",
   "execution_count": 11,
   "id": "dcd707bd",
   "metadata": {},
   "outputs": [
    {
     "data": {
      "text/plain": [
       "0.8282795698924732"
      ]
     },
     "execution_count": 11,
     "metadata": {},
     "output_type": "execute_result"
    }
   ],
   "source": [
    "# RBF Kernel\n",
    "\n",
    "svc = SVC(kernel='rbf', C=C)\n",
    "cv_score = cross_val_score(svc, X_scaled, y, cv=10)\n",
    "cv_score.mean()"
   ]
  },
  {
   "cell_type": "code",
   "execution_count": 12,
   "id": "66d624c5",
   "metadata": {},
   "outputs": [
    {
     "data": {
      "text/plain": [
       "0.8347311827956989"
      ]
     },
     "execution_count": 12,
     "metadata": {},
     "output_type": "execute_result"
    }
   ],
   "source": [
    "# Sigmoid Kernel\n",
    "\n",
    "svc = SVC(kernel='sigmoid', C=C)\n",
    "cv_score = cross_val_score(svc, X_scaled, y, cv=10)\n",
    "cv_score.mean()"
   ]
  },
  {
   "cell_type": "code",
   "execution_count": 13,
   "id": "274c378b",
   "metadata": {},
   "outputs": [
    {
     "data": {
      "text/plain": [
       "0.8086021505376344"
      ]
     },
     "execution_count": 13,
     "metadata": {},
     "output_type": "execute_result"
    }
   ],
   "source": [
    "# Poly Kernel\n",
    "svc = SVC(kernel=\"poly\", C=C)\n",
    "cv_score = cross_val_score(svc, X_scaled, y, cv=10)\n",
    "cv_score.mean()"
   ]
  },
  {
   "cell_type": "markdown",
   "id": "c811d762",
   "metadata": {},
   "source": [
    "### NaiveBayes Model"
   ]
  },
  {
   "cell_type": "code",
   "execution_count": 14,
   "id": "84ffda90",
   "metadata": {},
   "outputs": [
    {
     "data": {
      "text/plain": [
       "0.7853763440860215"
      ]
     },
     "execution_count": 14,
     "metadata": {},
     "output_type": "execute_result"
    }
   ],
   "source": [
    "from sklearn.naive_bayes import MultinomialNB\n",
    "from sklearn.preprocessing import MinMaxScaler\n",
    "\n",
    "scaler = MinMaxScaler()\n",
    "minmax_features =  scaler.fit_transform(X)\n",
    "\n",
    "\n",
    "clf = MultinomialNB()\n",
    "cv_score = cross_val_score(clf, minmax_features, y, cv=10)\n",
    "cv_score.mean()"
   ]
  },
  {
   "cell_type": "markdown",
   "id": "05b94da6",
   "metadata": {},
   "source": [
    "### Clearly we can see that support vector machines are leading the race with the highest accuracy at 83 percent each for linear, rbf and sigmoid kernel, but for the puporse of learning, I wiil tune all of the models' hyperparameters except the simple DecisionTree model and  NaiveBayes Model\n",
    "\n",
    "\n",
    "code for hyperparameter tunning can be found in `hyperparameter-tunning-heart-disease-classificication.ipynb`"
   ]
  }
 ],
 "metadata": {
  "kernelspec": {
   "display_name": "Python 3",
   "language": "python",
   "name": "python3"
  },
  "language_info": {
   "codemirror_mode": {
    "name": "ipython",
    "version": 3
   },
   "file_extension": ".py",
   "mimetype": "text/x-python",
   "name": "python",
   "nbconvert_exporter": "python",
   "pygments_lexer": "ipython3",
   "version": "3.8.8"
  }
 },
 "nbformat": 4,
 "nbformat_minor": 5
}
